{
 "cells": [
  {
   "cell_type": "markdown",
   "id": "fac2738d-c4b6-4c56-86ca-c8b16232a139",
   "metadata": {},
   "source": [
    "# 0. set up"
   ]
  },
  {
   "cell_type": "code",
   "execution_count": 1,
   "id": "c4806904-7cb4-4cfa-9fb3-344e1a949eb2",
   "metadata": {
    "tags": []
   },
   "outputs": [
    {
     "name": "stdout",
     "output_type": "stream",
     "text": [
      "fatal: destination path 'accelerate-configs' already exists and is not an empty directory.\n"
     ]
    }
   ],
   "source": [
    "!git clone https://github.com/eustlb/accelerate-configs.git"
   ]
  },
  {
   "cell_type": "code",
   "execution_count": 2,
   "id": "255984af-ae6c-423e-be6e-5e98b1fbc4dc",
   "metadata": {
    "tags": []
   },
   "outputs": [
    {
     "name": "stdout",
     "output_type": "stream",
     "text": [
      "fatal: destination path 'distil-whisper' already exists and is not an empty directory.\n"
     ]
    }
   ],
   "source": [
    "!git clone -b main-dev https://github.com/eustlb/distil-whisper.git\n"
   ]
  },
  {
   "cell_type": "markdown",
   "id": "9f95c669-4690-487e-bf60-e89826726aad",
   "metadata": {
    "tags": []
   },
   "source": [
    "# 1. run pseudo labeling"
   ]
  },
  {
   "cell_type": "markdown",
   "id": "925783b3-001f-4b02-a30f-9df63a4ac139",
   "metadata": {},
   "source": [
    "## parameters"
   ]
  },
  {
   "cell_type": "code",
   "execution_count": 8,
   "id": "e70604d3-cf62-4d5a-9075-bf8df4978cc6",
   "metadata": {
    "tags": []
   },
   "outputs": [],
   "source": [
    "# Define the variables\n",
    "model_name_or_path = \"openai/whisper-large-v3\"\n",
    "dataset_name = \"mozilla-foundation/common_voice_17_0\"\n",
    "dataset_config_name = \"es\"\n",
    "dataset_split_name = \"train\"\n",
    "audio_column_name = \"audio\"\n",
    "text_column_name = \"sentence\"\n",
    "id_column_name = \"client_id\"\n",
    "language = \"es\""
   ]
  },
  {
   "cell_type": "markdown",
   "id": "7d7527ca-f732-4824-8879-d6bf5a4b25f7",
   "metadata": {},
   "source": [
    "## launch pseudo labeling!"
   ]
  },
  {
   "cell_type": "code",
   "execution_count": null,
   "id": "84169a4f-b21f-4e04-b4fb-e4948201345a",
   "metadata": {
    "tags": []
   },
   "outputs": [],
   "source": [
    "import os\n",
    "\n",
    "# Build the command string\n",
    "command = f\"\"\"\n",
    "chmod +x ./run-scripts/run_pseudo_labelling.sh\n",
    "./run-scripts/run_pseudo_labelling.sh \"{model_name_or_path}\" \"{dataset_name}\" \"{dataset_config_name}\" \"{dataset_split_name}\" \"{audio_column_name}\" \"{text_column_name}\" \"{language}\" \"{id_column_name}\"\n",
    "\"\"\"\n",
    "\n",
    "# Execute the command\n",
    "os.system(command)"
   ]
  },
  {
   "cell_type": "markdown",
   "id": "9f8a521e-ff13-49ed-a486-88635df2e0ee",
   "metadata": {},
   "source": [
    "## clean temporary data"
   ]
  },
  {
   "cell_type": "code",
   "execution_count": 3,
   "id": "fa7ad48e-8db0-4cb2-946f-0e2df6866b10",
   "metadata": {
    "tags": []
   },
   "outputs": [],
   "source": [
    "!rm -rf /data/tmp"
   ]
  },
  {
   "cell_type": "markdown",
   "id": "123ade20-cf9d-40f8-b9af-482e31ff0406",
   "metadata": {},
   "source": [
    "# 2. training"
   ]
  },
  {
   "cell_type": "markdown",
   "id": "24f00f8b-7cd8-4b71-bf59-1864871762fe",
   "metadata": {},
   "source": [
    "## parameters"
   ]
  },
  {
   "cell_type": "code",
   "execution_count": null,
   "id": "95df8ad9-99b7-4561-a864-f8e1ba5f19c1",
   "metadata": {},
   "outputs": [],
   "source": []
  }
 ],
 "metadata": {
  "kernelspec": {
   "display_name": "Python 3 (ipykernel)",
   "language": "python",
   "name": "python3"
  },
  "language_info": {
   "codemirror_mode": {
    "name": "ipython",
    "version": 3
   },
   "file_extension": ".py",
   "mimetype": "text/x-python",
   "name": "python",
   "nbconvert_exporter": "python",
   "pygments_lexer": "ipython3",
   "version": "3.11.9"
  }
 },
 "nbformat": 4,
 "nbformat_minor": 5
}
