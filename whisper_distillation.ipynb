{
 "cells": [
  {
   "cell_type": "markdown",
   "id": "fac2738d-c4b6-4c56-86ca-c8b16232a139",
   "metadata": {},
   "source": [
    "# 0. set up"
   ]
  },
  {
   "cell_type": "markdown",
   "id": "9376b4d7-e2d9-48cf-86f4-dcb13f1c2966",
   "metadata": {},
   "source": [
    "Simply clone the distil-whisper repo!"
   ]
  },
  {
   "cell_type": "code",
   "execution_count": 1,
   "id": "255984af-ae6c-423e-be6e-5e98b1fbc4dc",
   "metadata": {
    "tags": []
   },
   "outputs": [
    {
     "name": "stdout",
     "output_type": "stream",
     "text": [
      "fatal: destination path 'distil-whisper' already exists and is not an empty directory.\n"
     ]
    }
   ],
   "source": [
    "!git clone -b main-dev https://github.com/eustlb/distil-whisper.git"
   ]
  },
  {
   "cell_type": "markdown",
   "id": "9f95c669-4690-487e-bf60-e89826726aad",
   "metadata": {
    "tags": []
   },
   "source": [
    "# 1. run pseudo labelling"
   ]
  },
  {
   "cell_type": "markdown",
   "id": "d50a677a-b599-4c53-a514-80393e054de9",
   "metadata": {},
   "source": [
    "We run here the pseudo labelling step, where audio are concatenated to 30 seconds samples and pseudo labelled using whisper-large-v3. To do so, the targeted dataset is streamed from the Hugging Face hub and processed on the fly. For this reason, it is necessary for your dataset to be beforehand on the hub. The result will be saved to disk and pushed to the hub under your username (to avoid reprocessing it!). \n",
    "\n",
    "Please set the below parameters to the values corresponding to your Hugging Face Hub dataset. Refer to the given example using Common Voice 17 spanish config!"
   ]
  },
  {
   "cell_type": "markdown",
   "id": "925783b3-001f-4b02-a30f-9df63a4ac139",
   "metadata": {},
   "source": [
    "## parameters"
   ]
  },
  {
   "cell_type": "code",
   "execution_count": 4,
   "id": "e70604d3-cf62-4d5a-9075-bf8df4978cc6",
   "metadata": {
    "tags": []
   },
   "outputs": [],
   "source": [
    "dataset_name = \"google/fleurs\"\n",
    "dataset_config_name = \"es_419\" \n",
    "audio_column_name = \"audio\"\n",
    "text_column_name = \"transcription\"\n",
    "id_column_name = \"id\"\n",
    "speaker_id_column_name = None # either None\n",
    "language = \"es\"\n",
    "dataset_split_name = \"test\" # remains unchanged\n",
    "model_name_or_path = \"openai/whisper-large-v3\" # remains unchanged"
   ]
  },
  {
   "cell_type": "markdown",
   "id": "7d7527ca-f732-4824-8879-d6bf5a4b25f7",
   "metadata": {},
   "source": [
    "## launch pseudo labelling!"
   ]
  },
  {
   "cell_type": "code",
   "execution_count": 3,
   "id": "84169a4f-b21f-4e04-b4fb-e4948201345a",
   "metadata": {
    "tags": []
   },
   "outputs": [
    {
     "data": {
      "text/plain": [
       "0"
      ]
     },
     "execution_count": 3,
     "metadata": {},
     "output_type": "execute_result"
    }
   ],
   "source": [
    "import os\n",
    "\n",
    "# Build the command string\n",
    "command = f\"\"\"\n",
    "\n",
    "chmod +x ./run-scripts/run_pseudo_labelling.sh\n",
    "./run-scripts/run_pseudo_labelling.sh \"{model_name_or_path}\" \"{dataset_name}\" \"{dataset_config_name}\" \"{dataset_split_name}\" \"{audio_column_name}\" \"{text_column_name}\" \"{language}\" \"{id_column_name}\"\n",
    "\"\"\"\n",
    "\n",
    "# Execute the command\n",
    "os.system(command)"
   ]
  },
  {
   "cell_type": "markdown",
   "id": "123ade20-cf9d-40f8-b9af-482e31ff0406",
   "metadata": {},
   "source": [
    "# 2. training"
   ]
  },
  {
   "cell_type": "markdown",
   "id": "83e34247-42ee-4755-8037-17fd474e14ea",
   "metadata": {},
   "source": [
    "## 2.1 create student model"
   ]
  },
  {
   "cell_type": "code",
   "execution_count": 5,
   "id": "4e37202b",
   "metadata": {},
   "outputs": [],
   "source": [
    "# to be changed\n",
    "save_dir = \"/home/eustache_lebihan/dev/distil-colab/student-model\"\n",
    "\n",
    "# remains unchanged\n",
    "teacher_model_checkpoint = \"distil-whisper/distil-large-v3\""
   ]
  },
  {
   "cell_type": "code",
   "execution_count": 6,
   "id": "0181d963-e442-442c-8f6c-50915dc9283f",
   "metadata": {
    "tags": []
   },
   "outputs": [
    {
     "name": "stderr",
     "output_type": "stream",
     "text": [
      "Special tokens have been added in the vocabulary, make sure the associated word embeddings are fine-tuned or trained.\n",
      "Some non-default generation parameters are set in the model config. These should go into a GenerationConfig file (https://huggingface.co/docs/transformers/generation_strategies#save-a-custom-decoding-strategy-with-your-model) instead. This warning will be raised to an exception in v4.41.\n",
      "Non-default generation parameters: {'max_length': 448, 'begin_suppress_tokens': [220, 50257]}\n",
      "Special tokens have been added in the vocabulary, make sure the associated word embeddings are fine-tuned or trained.\n"
     ]
    },
    {
     "data": {
      "text/plain": [
       "0"
      ]
     },
     "execution_count": 6,
     "metadata": {},
     "output_type": "execute_result"
    }
   ],
   "source": [
    "import os\n",
    "\n",
    "# Build the command string\n",
    "command = f\"\"\"\n",
    "chmod +x ./run-scripts/create_student_model.sh\n",
    "./run-scripts/create_student_model.sh \"{teacher_model_checkpoint}\" \"{save_dir}\"\n",
    "\"\"\"\n",
    "\n",
    "# # Execute the command\n",
    "os.system(command)"
   ]
  },
  {
   "cell_type": "markdown",
   "id": "6b41840d-2735-482b-bed0-1751bf2743bc",
   "metadata": {},
   "source": [
    "## 2.2 train the model"
   ]
  },
  {
   "cell_type": "markdown",
   "id": "24f00f8b-7cd8-4b71-bf59-1864871762fe",
   "metadata": {},
   "source": [
    "### parameters"
   ]
  },
  {
   "cell_type": "code",
   "execution_count": 3,
   "id": "6668cd5e-2fa5-4a42-88f1-96f5f774812a",
   "metadata": {
    "tags": []
   },
   "outputs": [],
   "source": [
    "# to be changed to your specific case\n",
    "language = \"es\"\n",
    "\n",
    "# training set \n",
    "train_dataset_name = \"eustlb/fleurs_es_pseudo_labelled\"\n",
    "train_dataset_config_name = \"es_419\"\n",
    "train_split_name = \"test\"\n",
    "text_column_name = \"transcription\"\n",
    "\n",
    "# validation set\n",
    "eval_dataset_name = \"eustlb/fleurs_es_pseudo_labelled\"\n",
    "eval_dataset_config_name = \"es_419\"\n",
    "eval_split_name = \"test\"\n",
    "eval_text_column_name = \"transcription\"\n",
    "\n",
    "output_dir = \"/home/eustache_lebihan/dev/distil-colab/distil-large-v3-es\""
   ]
  },
  {
   "cell_type": "code",
   "execution_count": 6,
   "id": "95df8ad9-99b7-4561-a864-f8e1ba5f19c1",
   "metadata": {
    "tags": []
   },
   "outputs": [],
   "source": [
    "# training parameters, should remain unchanged\n",
    "model_name_or_path = \"/home/eustache_lebihan/dev/distil-colab/student-model\"\n",
    "max_steps = 50 # optimization steps\n",
    "warmup_steps = 10\n",
    "learning_rate = 0.0001\n",
    "timestamp_probability = 0.5\n",
    "condition_on_prev_probability = 0.2\n",
    "per_device_train_batch_size = 16\n",
    "per_device_eval_batch_size = 16\n",
    "dataloader_num_workers = 4\n",
    "wer_threshold = 20"
   ]
  },
  {
   "cell_type": "markdown",
   "id": "5304efeb-1f7b-4f90-b1c6-638400ca077b",
   "metadata": {},
   "source": [
    "### launch training!"
   ]
  },
  {
   "cell_type": "code",
   "execution_count": 7,
   "id": "a5b20f1d-15eb-40fd-afab-cf469abc29f7",
   "metadata": {},
   "outputs": [
    {
     "data": {
      "text/plain": [
       "256"
      ]
     },
     "execution_count": 7,
     "metadata": {},
     "output_type": "execute_result"
    }
   ],
   "source": [
    "import os\n",
    "\n",
    "# Build the command string\n",
    "command = f\"\"\"\n",
    "chmod +x ./run-scripts/run_training.sh\n",
    "./run-scripts/run_training.sh \"{model_name_or_path}\" \"{train_dataset_name}\" {train_dataset_config_name} \"{train_split_name}\" \"{text_column_name}\" \"{eval_dataset_name}\" \"{eval_dataset_config_name}\" \"{eval_split_name}\" \"{eval_text_column_name}\" \"{warmup_steps}\" \"{learning_rate}\" \"{timestamp_probability}\" \"{condition_on_prev_probability}\" \"{language}\" \"{max_steps}\" \"{wer_threshold}\" \"{per_device_train_batch_size}\" \"{per_device_eval_batch_size}\" \"{dataloader_num_workers}\" \"{output_dir}\"\n",
    "\"\"\"\n",
    "\n",
    "# Execute the command\n",
    "os.system(command)"
   ]
  },
  {
   "cell_type": "markdown",
   "id": "3a78f539-0654-44ee-a73d-3d0195472570",
   "metadata": {},
   "source": [
    "# 3. Evaluation"
   ]
  },
  {
   "cell_type": "markdown",
   "id": "5974839d",
   "metadata": {},
   "source": [
    "## 3.1 Whisper large-v3"
   ]
  },
  {
   "cell_type": "code",
   "execution_count": 20,
   "id": "29c7db81",
   "metadata": {},
   "outputs": [],
   "source": [
    "model_name_or_path = \"openai/whisper-large-v3\"\n",
    "wandb_name = model_name_or_path + \"es-short-form\" \n",
    "language = \"es\"\n",
    "dataset_names = \"mozilla-foundation/common_voice_17_0+facebook/multilingual_librispeech+facebook/voxpopuli+google/fleurs\"\n",
    "dataset_config_names = \"es+spanish+es+es_419\"\n",
    "dataset_split_names = \"test+test+test+test\" \n",
    "text_column_names = \"sentence+text+raw_text+transcription\" "
   ]
  },
  {
   "cell_type": "code",
   "execution_count": 21,
   "id": "817325c4",
   "metadata": {},
   "outputs": [],
   "source": [
    "import os\n",
    "\n",
    "# Build the command string\n",
    "command = f\"\"\"\n",
    "chmod +x ./run-scripts/run_short_form_eval.sh\n",
    "./run-scripts/run_short_form_eval.sh \"{model_name_or_path}\" \"{wandb_name}\" {dataset_names} \"{dataset_config_names}\" \"{dataset_split_names}\" \"{text_column_names}\" \"{language}\"\n",
    "\"\"\"\n",
    "\n",
    "# Execute the command\n",
    "os.system(command)"
   ]
  }
 ],
 "metadata": {
  "kernelspec": {
   "display_name": "Python 3 (ipykernel)",
   "language": "python",
   "name": "python3"
  },
  "language_info": {
   "codemirror_mode": {
    "name": "ipython",
    "version": 3
   },
   "file_extension": ".py",
   "mimetype": "text/x-python",
   "name": "python",
   "nbconvert_exporter": "python",
   "pygments_lexer": "ipython3",
   "version": "3.11.9"
  }
 },
 "nbformat": 4,
 "nbformat_minor": 5
}
